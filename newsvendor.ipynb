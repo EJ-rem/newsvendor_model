{
 "cells": [
  {
   "cell_type": "code",
   "execution_count": 162,
   "id": "84cdb018",
   "metadata": {},
   "outputs": [],
   "source": [
    "import numpy as np\n",
    "import pandas as pd\n",
    "from scipy.stats import norm\n",
    "import matplotlib.pyplot as plt"
   ]
  },
  {
   "cell_type": "code",
   "execution_count": 152,
   "id": "03118e8a",
   "metadata": {},
   "outputs": [],
   "source": [
    "class Newsvendor:\n",
    "    def __init__(self, demand, SD, sell, cost, salvage):\n",
    "        self.mu = demand\n",
    "        self.SD = SD\n",
    "        self.sellprice = sell\n",
    "        self.cost = cost\n",
    "        self.salvageprice = salvage\n",
    "        self._Cu = self.sellprice - self.cost\n",
    "        self._Co = self.cost - self.salvageprice\n",
    "        self._criticalRatio = self._Cu / (self._Cu + self._Co)\n",
    "        \n",
    "        \n",
    "    def clearParameters(self):\n",
    "        self.mu = 0\n",
    "        self.SD = 0\n",
    "        self.sellprice = 0\n",
    "        self.cost = 0\n",
    "        self.salvage = 0\n",
    "        self._Cu = 0\n",
    "        self._Co = 0\n",
    "        self._criticalRatio = 0\n",
    "        \n",
    "    def setParameters(self, demand, SD, sell, cost, salvage):\n",
    "        self.mu = demand\n",
    "        self.SD = SD\n",
    "        self.sellprice = sell\n",
    "        self.cost = cost\n",
    "        self.salvageprice = salvage\n",
    "        self._Cu = self.sellprice - self.cost\n",
    "        self._Co = self.cost - self.salvageprice\n",
    "        self._criticalRatio = self._Cu / (self._Cu + self._Co)\n",
    "        \n",
    "    def showParameters(self):\n",
    "        summary = {'Demand': self.mu,\n",
    "                  'Standard Deviation': self.SD,\n",
    "                  'Selling Price': self.sellprice,\n",
    "                  'Cost': self.cost,\n",
    "                  'Salvage Value': self.salvageprice}\n",
    "        \n",
    "        return summary\n",
    "        \n",
    "    def optimalQuantity(self):\n",
    "        optimal_production = round(norm(self.mu, self.SD).ppf(self._criticalRatio))\n",
    "        safety_stock = optimal_production - self.mu\n",
    "        quantity_summary = {'optimal quantity': optimal_production, 'average demand': self.mu, 'safety stock': safety_stock}\n",
    "        \n",
    "        return quantity_summary\n",
    "    \n",
    "    def optimalSummary(self, simulations=1, trials=1000000):\n",
    "        production = round(norm(self.mu, self.SD).ppf(self._criticalRatio))\n",
    "        demand = np.round(np.random.normal(self.mu, self.SD, (simulations, trials)))\n",
    "\n",
    "        # salvage quantities\n",
    "        salvage_quantity = production - demand\n",
    "        salvage_quantity = np.where(salvage_quantity<0, 0, salvage_quantity)\n",
    "        salvage_revenue = salvage_quantity * self.salvageprice\n",
    "\n",
    "        # expected lost sales\n",
    "        lost_sales_quantity = demand - production\n",
    "        lost_sales_quantity = np.where(lost_sales_quantity<0, 0, lost_sales_quantity)\n",
    "\n",
    "        # items sold\n",
    "        units_sold = np.minimum(demand, production)\n",
    "\n",
    "        # item rev\n",
    "        unit_revenue = units_sold * self.sellprice\n",
    "\n",
    "        # total rev\n",
    "        TR = unit_revenue + salvage_revenue\n",
    "\n",
    "        # COGS\n",
    "        COGS = production * self.cost\n",
    "\n",
    "        # gross profit\n",
    "        GP = TR - COGS\n",
    "        \n",
    "        dict_summ = {'Order Quantity': production,\n",
    "                    'Expected Lost Sales Quantity': np.round(np.mean(lost_sales_quantity), 0),\n",
    "                    'Expected Lost Sales Revenue': round(np.mean(lost_sales_quantity) * self.sellprice, 2),\n",
    "                    'Expected Sales Quantity': round(np.mean(units_sold), 0),\n",
    "                    'Expected Leftover Quantity': round(np.mean(salvage_quantity), 0),\n",
    "                    'Fill Rate': round(np.mean(units_sold) / self.mu, 4),\n",
    "                    'Stockout probability': round(norm.sf((production-self.mu)/self.SD), 4)}\n",
    "        \n",
    "        \n",
    "        \n",
    "        return dict_summ\n",
    "    \n",
    "    def targetInStockProba(self, instock_pct, simulations=1, trials=1000000):\n",
    "        production = round(norm(self.mu, self.SD).ppf(instock_pct))\n",
    "        demand = np.round(np.random.normal(self.mu, self.SD, (simulations, trials)))\n",
    "\n",
    "        # salvage quantities\n",
    "        salvage_quantity = production - demand\n",
    "        salvage_quantity = np.where(salvage_quantity<0, 0, salvage_quantity)\n",
    "        salvage_revenue = salvage_quantity * self.salvageprice\n",
    "\n",
    "        # expected lost sales\n",
    "        lost_sales_quantity = demand - production\n",
    "        lost_sales_quantity = np.where(lost_sales_quantity<0, 0, lost_sales_quantity)\n",
    "        avg_lost_sales = round(np.mean(lost_sales_quantity), 0) #for dict_summ\n",
    "\n",
    "        # items sold\n",
    "        units_sold = np.minimum(demand, production)\n",
    "\n",
    "        # item rev\n",
    "        unit_revenue = units_sold * self.sellprice\n",
    "\n",
    "        # total rev\n",
    "        TR = unit_revenue + salvage_revenue\n",
    "\n",
    "        # COGS\n",
    "        COGS = production * self.cost\n",
    "\n",
    "        # gross profit\n",
    "        GP = TR - COGS\n",
    "        \n",
    "        dict_summ = {'Chosen In-Stock Probability': instock_pct,\n",
    "                    'Order Quantity': production,\n",
    "                    'Expected Lost Sales Quantity': avg_lost_sales,\n",
    "                    'Expected Lost Sales Revenue': avg_lost_sales * self.sellprice,\n",
    "                    'Expected Sales Quantity': round(np.mean(units_sold), 0),\n",
    "                    'Expected Leftover Quantity': round(np.mean(salvage_quantity), 0),\n",
    "                    'Fill Rate': round(np.mean(units_sold) / self.mu, 4),\n",
    "                    'Stockout probability': round(norm.sf((production-self.mu)/self.SD), 4)}\n",
    "        \n",
    "        return dict_summ\n",
    "    \n",
    "    def quantityPerformanceSummary(self, quantity, simulations=1, trials=1000000):\n",
    "        production = quantity\n",
    "        demand = np.round(np.random.normal(self.mu, self.SD, (simulations, trials)))\n",
    "\n",
    "        # salvage quantities\n",
    "        salvage_quantity = production - demand\n",
    "        salvage_quantity = np.where(salvage_quantity<0, 0, salvage_quantity)\n",
    "        salvage_revenue = salvage_quantity * self.salvageprice\n",
    "\n",
    "        # expected lost sales\n",
    "        lost_sales_quantity = demand - production\n",
    "        lost_sales_quantity = np.where(lost_sales_quantity<0, 0, lost_sales_quantity)\n",
    "        avg_lost_sales = round(np.mean(lost_sales_quantity), 0) #for dict_summ\n",
    "\n",
    "        # items sold\n",
    "        units_sold = np.minimum(demand, production)\n",
    "\n",
    "        # item rev\n",
    "        unit_revenue = units_sold * self.sellprice\n",
    "\n",
    "        # total rev\n",
    "        TR = unit_revenue + salvage_revenue\n",
    "\n",
    "        # COGS\n",
    "        COGS = production * self.cost\n",
    "\n",
    "        # gross profit\n",
    "        GP = TR - COGS\n",
    "        \n",
    "        dict_summ = {'Chosen Order Quantity': production,\n",
    "                    'Expected Lost Sales Quantity': avg_lost_sales,\n",
    "                    'Expected Lost Sales Revenue': avg_lost_sales * self.sellprice,\n",
    "                    'Expected Sales Quantity': round(np.mean(units_sold), 0),\n",
    "                    'Expected Leftover Quantity': round(np.mean(salvage_quantity), 0),\n",
    "                    'Fill Rate': round(np.mean(units_sold) / self.mu, 4),\n",
    "                    'Stockout probability': round(norm.sf((production-self.mu)/self.SD), 4)}\n",
    "                \n",
    "        return dict_summ\n",
    "    \n",
    "    def fillRateSummary(self, upper_SD_bound=3, steps=10, showGraph=False, simulations=1, trials=1000000):\n",
    "        \n",
    "        # set bounds for testing production quantities\n",
    "        upper_production_bound = self.mu + (upper_SD_bound * self.SD) # upper limit set by number of SD away from mean\n",
    "        unit_production_range = range(0, upper_production_bound, steps)\n",
    "        \n",
    "        # create arrays to store fill rates\n",
    "        fill_rate_array = np.zeros(len(unit_production_range))\n",
    "        \n",
    "        for i, j in enumerate(unit_production_range):\n",
    "            production = j\n",
    "            demand = np.round(np.random.normal(self.mu, self.SD, (simulations, trials)))\n",
    "            \n",
    "            # average of units_sold array is numerator component of fill rate\n",
    "            units_sold = np.minimum(demand, production)\n",
    "            \n",
    "            fill_rate_array[i] = round(np.mean(units_sold) / self.mu, 4)\n",
    "        \n",
    "        # create dataframe\n",
    "        df_fill_rate = pd.DataFrame({\n",
    "            'Quantity': np.array(unit_production_range),\n",
    "            'Fill Rate': fill_rate_array\n",
    "        }).set_index('Quantity')\n",
    "        \n",
    "        \n",
    "        if showGraph==True:\n",
    "\n",
    "            fig, ax = plt.subplots(figsize=(12,8))\n",
    "            ax.set_title('Corresponding Fill Rate from Each Production Quantity')\n",
    "            ax.set_xlabel('Quantity')\n",
    "            ax.set_ylabel('Fill Rate')\n",
    "            ax.plot(df_fill_rate.index, df_fill_rate['Fill Rate'])\n",
    "            \n",
    "            plt.show()\n",
    "            \n",
    "        else:\n",
    "            None\n",
    "        \n",
    "        return df_fill_rate"
   ]
  },
  {
   "cell_type": "code",
   "execution_count": null,
   "id": "d6f07305",
   "metadata": {},
   "outputs": [],
   "source": []
  },
  {
   "cell_type": "code",
   "execution_count": 153,
   "id": "60bf7411",
   "metadata": {},
   "outputs": [],
   "source": [
    "t1 = Newsvendor(192, 58, 131, 100, 81)"
   ]
  },
  {
   "cell_type": "code",
   "execution_count": 154,
   "id": "19928b2b",
   "metadata": {},
   "outputs": [
    {
     "data": {
      "text/plain": [
       "{'Demand': 192,\n",
       " 'Standard Deviation': 58,\n",
       " 'Selling Price': 131,\n",
       " 'Cost': 100,\n",
       " 'Salvage Value': 81}"
      ]
     },
     "execution_count": 154,
     "metadata": {},
     "output_type": "execute_result"
    }
   ],
   "source": [
    "t1.showParameters()"
   ]
  },
  {
   "cell_type": "code",
   "execution_count": 155,
   "id": "335b61dd",
   "metadata": {},
   "outputs": [
    {
     "data": {
      "text/plain": [
       "{'Order Quantity': 210,\n",
       " 'Expected Lost Sales Quantity': 15.0,\n",
       " 'Expected Lost Sales Revenue': 1993.32,\n",
       " 'Expected Sales Quantity': 177.0,\n",
       " 'Expected Leftover Quantity': 33.0,\n",
       " 'Fill Rate': 0.9204,\n",
       " 'Stockout probability': 0.3781}"
      ]
     },
     "execution_count": 155,
     "metadata": {},
     "output_type": "execute_result"
    }
   ],
   "source": [
    "t1.optimalSummary()"
   ]
  },
  {
   "cell_type": "code",
   "execution_count": 156,
   "id": "7d0ec8e8",
   "metadata": {},
   "outputs": [
    {
     "data": {
      "text/plain": [
       "{'Chosen In-Stock Probability': 0.99,\n",
       " 'Order Quantity': 327,\n",
       " 'Expected Lost Sales Quantity': 0.0,\n",
       " 'Expected Lost Sales Revenue': 0.0,\n",
       " 'Expected Sales Quantity': 192.0,\n",
       " 'Expected Leftover Quantity': 135.0,\n",
       " 'Fill Rate': 0.9986,\n",
       " 'Stockout probability': 0.01}"
      ]
     },
     "execution_count": 156,
     "metadata": {},
     "output_type": "execute_result"
    }
   ],
   "source": [
    "t1.targetInStockProba(0.99)"
   ]
  },
  {
   "cell_type": "code",
   "execution_count": 157,
   "id": "391d0265",
   "metadata": {},
   "outputs": [
    {
     "data": {
      "text/plain": [
       "{'Chosen Order Quantity': 320,\n",
       " 'Expected Lost Sales Quantity': 0.0,\n",
       " 'Expected Lost Sales Revenue': 0.0,\n",
       " 'Expected Sales Quantity': 192.0,\n",
       " 'Expected Leftover Quantity': 128.0,\n",
       " 'Fill Rate': 0.9985,\n",
       " 'Stockout probability': 0.0137}"
      ]
     },
     "execution_count": 157,
     "metadata": {},
     "output_type": "execute_result"
    }
   ],
   "source": [
    "t1.quantityPerformanceSummary(320)"
   ]
  },
  {
   "cell_type": "code",
   "execution_count": 159,
   "id": "742e5a2b",
   "metadata": {},
   "outputs": [
    {
     "data": {
      "image/png": "[encoded data removed]",
      "text/plain": [
       "<Figure size 864x576 with 1 Axes>"
      ]
     },
     "metadata": {
      "needs_background": "light"
     },
     "output_type": "display_data"
    }
   ],
   "source": [
    "df_fill_rate = t1.fillRateSummary(showGraph=True)"
   ]
  }
 ],
 "metadata": {
  "kernelspec": {
   "display_name": "Python 3",
   "language": "python",
   "name": "python3"
  },
  "language_info": {
   "codemirror_mode": {
    "name": "ipython",
    "version": 3
   },
   "file_extension": ".py",
   "mimetype": "text/x-python",
   "name": "python",
   "nbconvert_exporter": "python",
   "pygments_lexer": "ipython3",
   "version": "3.8.8"
  }
 },
 "nbformat": 4,
 "nbformat_minor": 5
}
